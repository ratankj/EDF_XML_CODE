{
 "cells": [
  {
   "cell_type": "code",
   "execution_count": 1,
   "metadata": {},
   "outputs": [],
   "source": [
    "\n",
    "\n"
   ]
  },
  {
   "cell_type": "code",
   "execution_count": 8,
   "metadata": {},
   "outputs": [
    {
     "ename": "Error",
     "evalue": "('IM002', '[IM002] [Microsoft][ODBC Driver Manager] Data source name not found and no default driver specified')",
     "output_type": "error",
     "traceback": [
      "\u001b[1;31m---------------------------------------------------------------------------\u001b[0m",
      "\u001b[1;31mError\u001b[0m                                     Traceback (most recent call last)",
      "Cell \u001b[1;32mIn[8], line 21\u001b[0m\n\u001b[0;32m      8\u001b[0m pwd \u001b[38;5;241m=\u001b[39m \u001b[38;5;124m\"\u001b[39m\u001b[38;5;124madmin_rat@123\u001b[39m\u001b[38;5;124m\"\u001b[39m\n\u001b[0;32m     10\u001b[0m connection_string \u001b[38;5;241m=\u001b[39m \u001b[38;5;124mf\u001b[39m\u001b[38;5;124m\"\"\"\u001b[39m\n\u001b[0;32m     11\u001b[0m \u001b[38;5;124m    SERVER_IP=\u001b[39m\u001b[38;5;132;01m{\u001b[39;00mSERVER_IP\u001b[38;5;132;01m}\u001b[39;00m\u001b[38;5;124m;\u001b[39m\n\u001b[0;32m     12\u001b[0m \u001b[38;5;124m    DRIVER = \u001b[39m\u001b[38;5;132;01m{\u001b[39;00mDRIVER_NAME\u001b[38;5;132;01m}\u001b[39;00m\u001b[38;5;124m;\u001b[39m\n\u001b[1;32m   (...)\u001b[0m\n\u001b[0;32m     17\u001b[0m \u001b[38;5;124m    \u001b[39m\n\u001b[0;32m     18\u001b[0m \u001b[38;5;124m\"\"\"\u001b[39m\n\u001b[1;32m---> 21\u001b[0m conn \u001b[38;5;241m=\u001b[39m \u001b[43modbc\u001b[49m\u001b[38;5;241;43m.\u001b[39;49m\u001b[43mconnect\u001b[49m\u001b[43m(\u001b[49m\u001b[43mconnection_string\u001b[49m\u001b[43m)\u001b[49m\n\u001b[0;32m     22\u001b[0m \u001b[38;5;28mprint\u001b[39m(conn)\n",
      "File \u001b[1;32mc:\\PYTHON\\EDF_CODE_AUTOMATION_PYTHON\\EDF_XML_CODE\\venv\\lib\\site-packages\\pypyodbc.py:2454\u001b[0m, in \u001b[0;36mConnection.__init__\u001b[1;34m(self, connectString, autocommit, ansi, timeout, unicode_results, readonly, **kargs)\u001b[0m\n\u001b[0;32m   2450\u001b[0m \u001b[38;5;28;01mif\u001b[39;00m \u001b[38;5;28mself\u001b[39m\u001b[38;5;241m.\u001b[39mconnection_timeout \u001b[38;5;241m!=\u001b[39m \u001b[38;5;241m0\u001b[39m:\n\u001b[0;32m   2451\u001b[0m     \u001b[38;5;28mself\u001b[39m\u001b[38;5;241m.\u001b[39mset_connection_timeout(connection_timeout)\n\u001b[1;32m-> 2454\u001b[0m \u001b[38;5;28;43mself\u001b[39;49m\u001b[38;5;241;43m.\u001b[39;49m\u001b[43mconnect\u001b[49m\u001b[43m(\u001b[49m\u001b[43mconnectString\u001b[49m\u001b[43m,\u001b[49m\u001b[43m \u001b[49m\u001b[43mautocommit\u001b[49m\u001b[43m,\u001b[49m\u001b[43m \u001b[49m\u001b[43mansi\u001b[49m\u001b[43m,\u001b[49m\u001b[43m \u001b[49m\u001b[43mtimeout\u001b[49m\u001b[43m,\u001b[49m\u001b[43m \u001b[49m\u001b[43municode_results\u001b[49m\u001b[43m,\u001b[49m\u001b[43m \u001b[49m\u001b[43mreadonly\u001b[49m\u001b[43m)\u001b[49m\n",
      "File \u001b[1;32mc:\\PYTHON\\EDF_CODE_AUTOMATION_PYTHON\\EDF_XML_CODE\\venv\\lib\\site-packages\\pypyodbc.py:2507\u001b[0m, in \u001b[0;36mConnection.connect\u001b[1;34m(self, connectString, autocommit, ansi, timeout, unicode_results, readonly)\u001b[0m\n\u001b[0;32m   2505\u001b[0m \u001b[38;5;28;01melse\u001b[39;00m:\n\u001b[0;32m   2506\u001b[0m     ret \u001b[38;5;241m=\u001b[39m odbc_func(\u001b[38;5;28mself\u001b[39m\u001b[38;5;241m.\u001b[39mdbc_h, \u001b[38;5;241m0\u001b[39m, c_connectString, \u001b[38;5;28mlen\u001b[39m(\u001b[38;5;28mself\u001b[39m\u001b[38;5;241m.\u001b[39mconnectString), \u001b[38;5;28;01mNone\u001b[39;00m, \u001b[38;5;241m0\u001b[39m, \u001b[38;5;28;01mNone\u001b[39;00m, SQL_DRIVER_NOPROMPT)\n\u001b[1;32m-> 2507\u001b[0m \u001b[43mcheck_success\u001b[49m\u001b[43m(\u001b[49m\u001b[38;5;28;43mself\u001b[39;49m\u001b[43m,\u001b[49m\u001b[43m \u001b[49m\u001b[43mret\u001b[49m\u001b[43m)\u001b[49m\n\u001b[0;32m   2510\u001b[0m \u001b[38;5;66;03m# Set the connection's attribute of \"autocommit\" \u001b[39;00m\n\u001b[0;32m   2511\u001b[0m \u001b[38;5;66;03m#\u001b[39;00m\n\u001b[0;32m   2512\u001b[0m \u001b[38;5;28mself\u001b[39m\u001b[38;5;241m.\u001b[39mautocommit \u001b[38;5;241m=\u001b[39m autocommit\n",
      "File \u001b[1;32mc:\\PYTHON\\EDF_CODE_AUTOMATION_PYTHON\\EDF_XML_CODE\\venv\\lib\\site-packages\\pypyodbc.py:1009\u001b[0m, in \u001b[0;36mcheck_success\u001b[1;34m(ODBC_obj, ret)\u001b[0m\n\u001b[0;32m   1007\u001b[0m     ctrl_err(SQL_HANDLE_STMT, ODBC_obj\u001b[38;5;241m.\u001b[39mstmt_h, ret, ODBC_obj\u001b[38;5;241m.\u001b[39mansi)\n\u001b[0;32m   1008\u001b[0m \u001b[38;5;28;01melif\u001b[39;00m \u001b[38;5;28misinstance\u001b[39m(ODBC_obj, Connection):\n\u001b[1;32m-> 1009\u001b[0m     \u001b[43mctrl_err\u001b[49m\u001b[43m(\u001b[49m\u001b[43mSQL_HANDLE_DBC\u001b[49m\u001b[43m,\u001b[49m\u001b[43m \u001b[49m\u001b[43mODBC_obj\u001b[49m\u001b[38;5;241;43m.\u001b[39;49m\u001b[43mdbc_h\u001b[49m\u001b[43m,\u001b[49m\u001b[43m \u001b[49m\u001b[43mret\u001b[49m\u001b[43m,\u001b[49m\u001b[43m \u001b[49m\u001b[43mODBC_obj\u001b[49m\u001b[38;5;241;43m.\u001b[39;49m\u001b[43mansi\u001b[49m\u001b[43m)\u001b[49m\n\u001b[0;32m   1010\u001b[0m \u001b[38;5;28;01melse\u001b[39;00m:\n\u001b[0;32m   1011\u001b[0m     ctrl_err(SQL_HANDLE_ENV, ODBC_obj, ret, \u001b[38;5;28;01mFalse\u001b[39;00m)\n",
      "File \u001b[1;32mc:\\PYTHON\\EDF_CODE_AUTOMATION_PYTHON\\EDF_XML_CODE\\venv\\lib\\site-packages\\pypyodbc.py:985\u001b[0m, in \u001b[0;36mctrl_err\u001b[1;34m(ht, h, val_ret, ansi)\u001b[0m\n\u001b[0;32m    983\u001b[0m     \u001b[38;5;28;01mraise\u001b[39;00m OperationalError(state,err_text)\n\u001b[0;32m    984\u001b[0m \u001b[38;5;28;01melif\u001b[39;00m state[:\u001b[38;5;241m2\u001b[39m] \u001b[38;5;129;01min\u001b[39;00m (raw_s(\u001b[38;5;124m'\u001b[39m\u001b[38;5;124mIM\u001b[39m\u001b[38;5;124m'\u001b[39m),raw_s(\u001b[38;5;124m'\u001b[39m\u001b[38;5;124mHY\u001b[39m\u001b[38;5;124m'\u001b[39m)):\n\u001b[1;32m--> 985\u001b[0m     \u001b[38;5;28;01mraise\u001b[39;00m Error(state,err_text)\n\u001b[0;32m    986\u001b[0m \u001b[38;5;28;01melse\u001b[39;00m:\n\u001b[0;32m    987\u001b[0m     \u001b[38;5;28;01mraise\u001b[39;00m DatabaseError(state,err_text)\n",
      "\u001b[1;31mError\u001b[0m: ('IM002', '[IM002] [Microsoft][ODBC Driver Manager] Data source name not found and no default driver specified')"
     ]
    }
   ],
   "source": [
    "import pypyodbc as odbc\n",
    "\n",
    "DRIVER_NAME = \"SQL SERVER\"\n",
    "SERVER_IP = \"10.10.251.78\"\n",
    "SERVER_NAME = \"WIN-64C7AP8OG77\\EDFSQLSERVER\"\n",
    "DATABASE_NAME = \"CCR_grafana_dashboard\"\n",
    "uid = \"edf_ratan_jha\"\n",
    "pwd = \"admin_rat@123\"\n",
    "\n",
    "connection_string = f\"\"\"\n",
    "    SERVER_IP={SERVER_IP};\n",
    "    DRIVER = {DRIVER_NAME};\n",
    "    SERVER = {SERVER_NAME};\n",
    "    DATABASE = {DATABASE_NAME};\n",
    "    uid = {uid};\n",
    "    pwd = {pwd};\n",
    "    \n",
    "\"\"\"\n",
    "\n",
    "\n",
    "conn = odbc.connect(connection_string)\n",
    "print(conn)"
   ]
  },
  {
   "cell_type": "code",
   "execution_count": null,
   "metadata": {},
   "outputs": [],
   "source": []
  },
  {
   "cell_type": "code",
   "execution_count": null,
   "metadata": {},
   "outputs": [],
   "source": []
  },
  {
   "cell_type": "code",
   "execution_count": null,
   "metadata": {},
   "outputs": [],
   "source": []
  },
  {
   "cell_type": "code",
   "execution_count": null,
   "metadata": {},
   "outputs": [],
   "source": [
    "# imports for SQL data part\n",
    "import pyodbc\n",
    "from datetime import datetime, timedelta\n",
    "import pandas as pd\n",
    "\n",
    "# imports for sending email\n",
    "from email.mime.text import MIMEText\n",
    "from email.mime.multipart import MIMEMultipart\n",
    "import smtplib\n",
    "\n",
    "date = datetime.today() - timedelta(days=7)  # get the date 7 days ago\n",
    "\n",
    "date = date.strftime(\"%Y-%m-%d\")  # convert to format yyyy-mm-dd\n",
    "\n",
    "cnxn = pyodbc.connect(cnxn_str)  # initialise connection (assume we have already defined cnxn_str)\n",
    "\n",
    "# build up our query string\n",
    "query = (\"SELECT * FROM associates \"\n",
    "         f\"WHERE joinDate > '{date}'\")\n",
    "\n",
    "# execute the query and read to a dataframe in Python\n",
    "data = pd.read_sql(query, cnxn)\n",
    "\n",
    "del cnxn  # close the connection\n",
    "\n",
    "# make a few calculations\n",
    "mean_payment = data['payment'].mean()\n",
    "std_payment = data['payment'].std()\n",
    "\n",
    "# get max payment and product details\n",
    "max_vals = data[['product', 'payment']].sort_values(by=['payment'], ascending=False).iloc[0]\n",
    "\n",
    "# write an email message\n",
    "txt = (f\"Customer reporting for period {date} - {datetime.today().strftime('%Y-%m-%d')}.nn\"\n",
    "       f\"Mean payment amounts received: {mean_payment}n\"\n",
    "       f\"Standard deviation of payment amounts: {std_payments}n\"\n",
    "       f\"Highest payment amount of {max_vals['payment']} \"\n",
    "       f\"received from {max_vals['product']} product.\")\n",
    "\n",
    "# we will built the message using the email library and send using smtplib\n",
    "msg = MIMEMultipart()\n",
    "msg['Subject'] = \"Automated customer report\"  # set email subject\n",
    "msg.attach(MIMEText(txt))  # add text contents\n",
    "       \n",
    "# we will send via outlook, first we initialise connection to mail server\n",
    "smtp = smtplib.SMTP('smtp-mail.outlook.com', '587')\n",
    "smtp.ehlo()  # say hello to the server\n",
    "smtp.starttls()  # we will communicate using TLS encryption\n",
    "       \n",
    "# login to outlook server, using generic email and password\n",
    "smtp.login('Alex@outlook.com', 'Alex123')\n",
    "       \n",
    "# send email to our boss\n",
    "smtp.sendmail('Alex@outlook.com', 'boss@outlook.com', msg.as_string())\n",
    "       \n",
    "# finally, disconnect from the mail server\n",
    "smtp.quit()"
   ]
  },
  {
   "cell_type": "code",
   "execution_count": null,
   "metadata": {},
   "outputs": [],
   "source": []
  },
  {
   "cell_type": "code",
   "execution_count": null,
   "metadata": {},
   "outputs": [],
   "source": []
  }
 ],
 "metadata": {
  "kernelspec": {
   "display_name": "Python 3",
   "language": "python",
   "name": "python3"
  },
  "language_info": {
   "codemirror_mode": {
    "name": "ipython",
    "version": 3
   },
   "file_extension": ".py",
   "mimetype": "text/x-python",
   "name": "python",
   "nbconvert_exporter": "python",
   "pygments_lexer": "ipython3",
   "version": "3.9.18"
  }
 },
 "nbformat": 4,
 "nbformat_minor": 2
}
