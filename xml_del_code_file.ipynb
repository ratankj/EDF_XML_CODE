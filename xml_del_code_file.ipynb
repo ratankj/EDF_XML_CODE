{
 "cells": [
  {
   "cell_type": "code",
   "execution_count": 4,
   "metadata": {},
   "outputs": [],
   "source": [
    "import pandas as pd\n",
    "import numpy as np\n",
    "import os\n",
    "import shutil"
   ]
  },
  {
   "cell_type": "code",
   "execution_count": 2,
   "metadata": {},
   "outputs": [],
   "source": [
    "import xml.etree.ElementTree as ET"
   ]
  },
  {
   "cell_type": "code",
   "execution_count": 5,
   "metadata": {},
   "outputs": [],
   "source": [
    "path = r\"C:\\Users\\Ratan Kumar Jha\\Desktop\\xml code\"\n",
    "os.chdir(path) \n"
   ]
  },
  {
   "cell_type": "code",
   "execution_count": null,
   "metadata": {},
   "outputs": [],
   "source": [
    "#For Normal- SBPDCL_Sync_Reads_GOEGL9082774_FIX\n",
    "#For New- NEW_SBPDCL_Sync_Reads_LNTLT1061547_FIX\n",
    "#For Smart- SMART_SBPDCL_Sync_Reads_GOEGP5010585_FIX"
   ]
  },
  {
   "cell_type": "code",
   "execution_count": null,
   "metadata": {},
   "outputs": [],
   "source": []
  },
  {
   "cell_type": "code",
   "execution_count": 14,
   "metadata": {},
   "outputs": [
    {
     "name": "stdout",
     "output_type": "stream",
     "text": [
      "Meter Number: GOEGL9112230\n",
      "NBPDCL_400163430_HOH.xml.xml :  normal file\n",
      "NBPDCL_Sync_Reads_GOEGL9112230_FIX\n",
      "Meter Number: LNTLT1072467\n",
      "NBPDCL_400187029_HOH.xml.xml :  normal file\n",
      "NBPDCL_Sync_Reads_LNTLT1072467_FIX\n",
      "Meter Number: LNTLT8053384\n",
      "NBPDCL_400203631_HOH.xml.xml :  normal file\n",
      "NBPDCL_Sync_Reads_LNTLT8053384_FIX\n",
      "Meter Number: LNTLT1073637\n",
      "NBPDCL_400334914_HOH.xml.xml :  normal file\n",
      "NBPDCL_Sync_Reads_LNTLT1073637_FIX\n",
      "Meter Number: GOEGP7468411\n",
      "NBPDCL_400373837_HOH.xml.xml :  normal file\n",
      "NBPDCL_Sync_Reads_GOEGP7468411_FIX\n",
      "Meter Number: LNTLT1079699\n",
      "NEW_NBPDCL_5003962000_HOH.xml.xml :  start with new\n",
      "NEW_NBPDCL_Sync_Reads_LNTLT1079699_FIX\n",
      "Meter Number: LNTLT1080611\n",
      "NEW_NBPDCL_5004147574_HOH.xml.xml :  start with new\n",
      "NEW_NBPDCL_Sync_Reads_LNTLT1080611_FIX\n",
      "Meter Number: LNTLT0086531\n",
      "SMART_NBPDCL_401628874_1ST__HOH.xml.xml :  start with SMART\n",
      "SMART_NBPDCL_Sync_Reads_LNTLT0086531_FIX\n"
     ]
    }
   ],
   "source": [
    "from lxml import etree\n",
    "import os\n",
    "\n",
    "path = r\"C:\\Users\\Ratan Kumar Jha\\Desktop\\xml code\\INPUT XML\"\n",
    "output_file_path = r'C:\\Users\\Ratan Kumar Jha\\Desktop\\xml code\\OUTPUT XML'\n",
    "os.chdir(path)\n",
    "\n",
    "for file in os.listdir():\n",
    "    # Check whether file is in text format or not \n",
    "    if file.endswith(\".xml\"):\n",
    "        file_path = f\"{path}\\{file}\"\n",
    "\n",
    "        # Parse the XML file with explicit encoding handling\n",
    "        parser = etree.XMLParser(encoding='utf-8')\n",
    "        tree = etree.parse(file_path, parser)\n",
    "        root = tree.getroot()\n",
    "\n",
    "        # Namespaces\n",
    "        ns = {'ns': 'http://www.emeter.com/energyip/syncinterface/v8'}\n",
    "\n",
    "        # Create a new root element\n",
    "        new_root = etree.Element(root.tag, nsmap=root.nsmap)\n",
    "\n",
    "        # Find and append the header element\n",
    "        header = root.find('ns:header', namespaces=ns)\n",
    "        if header is not None:\n",
    "            new_root.append(header)\n",
    "\n",
    "        # Create a new payload element\n",
    "        payload = etree.Element('payload')\n",
    "\n",
    "        # Find and append the meterRead element to the payload\n",
    "        meter_read = root.find('.//ns:meterRead', namespaces=ns)\n",
    "        if meter_read is not None:\n",
    "            payload.append(meter_read)\n",
    "\n",
    "            meter_no = meter_read.find('.//ns:mRID', namespaces=ns)\n",
    "            if meter_no is not None:\n",
    "                print(f'Meter Number: {meter_no.text}')\n",
    "\n",
    "        # Append the payload element to the new root\n",
    "        new_root.append(payload)\n",
    "\n",
    "        # Write the modified XML to a new file\n",
    "        new_tree = etree.ElementTree(new_root)\n",
    "        file_name = file + '.xml'\n",
    "\n",
    "        if file_name.endswith(\".xml\"):\n",
    "            \n",
    "            if file_name.startswith(\"NEW\"):\n",
    "                print(f\"{file_name} :  start with new\")\n",
    "                print(f\"{file_name[0:10]}_Sync_Reads_{meter_no.text}_FIX\")\n",
    "\n",
    "                NEW_METER_FILE_NAME = f\"{file_name[0:10]}_Sync_Reads_{meter_no.text}_FIX.xml\"\n",
    "                output_xml_file_path = os.path.join(output_file_path, NEW_METER_FILE_NAME)\n",
    "                new_tree.write(output_xml_file_path, pretty_print=True, xml_declaration=True, encoding='UTF-8')\n",
    "\n",
    "            elif file_name.startswith(\"SMART\"):\n",
    "                print(f\"{file_name} :  start with SMART\")\n",
    "                print(f\"{file_name[0:12]}_Sync_Reads_{meter_no.text}_FIX\")\n",
    "\n",
    "                SMART_METER_FILENAME = f\"{file_name[0:12]}_Sync_Reads_{meter_no.text}_FIX.xml\"\n",
    "                output_xml_file_path = os.path.join(output_file_path, SMART_METER_FILENAME)\n",
    "                new_tree.write(output_xml_file_path, pretty_print=True, xml_declaration=True, encoding='UTF-8')\n",
    "\n",
    "            else:\n",
    "                print(f\"{file_name} :  normal file\")\n",
    "                print(f\"{file_name[0:6]}_Sync_Reads_{meter_no.text}_FIX\")\n",
    "\n",
    "                NORMAL_METER_FILE_NAME = f\"{file_name[0:6]}_Sync_Reads_{meter_no.text}_FIX.xml\"\n",
    "                output_xml_file_path = os.path.join(output_file_path, NORMAL_METER_FILE_NAME)\n",
    "                new_tree.write(output_xml_file_path, pretty_print=True, xml_declaration=True, encoding='UTF-8')\n"
   ]
  },
  {
   "cell_type": "code",
   "execution_count": null,
   "metadata": {},
   "outputs": [],
   "source": []
  },
  {
   "cell_type": "code",
   "execution_count": 12,
   "metadata": {},
   "outputs": [
    {
     "name": "stdout",
     "output_type": "stream",
     "text": [
      "NBPDCL_400163430_HOH.xml :  normal file\n",
      "NBPDCL_Sync_Reads_''_FIX\n",
      "NBPDCL_400187029_HOH.xml :  normal file\n",
      "NBPDCL_Sync_Reads_''_FIX\n",
      "NBPDCL_400203631_HOH.xml :  normal file\n",
      "NBPDCL_Sync_Reads_''_FIX\n",
      "NBPDCL_400334914_HOH.xml :  normal file\n",
      "NBPDCL_Sync_Reads_''_FIX\n",
      "NBPDCL_400373837_HOH.xml :  normal file\n",
      "NBPDCL_Sync_Reads_''_FIX\n",
      "NEW_NBPDCL_5003962000_HOH.xml :  start with new\n",
      "NEW_NBPDCL_Sync_Reads_''_FIX\n",
      "NEW_NBPDCL_5004147574_HOH.xml :  start with new\n",
      "NEW_NBPDCL_Sync_Reads_''_FIX\n",
      "SMART_NBPDCL_401628874_1ST__HOH.xml :  start with SMART\n",
      "SMART_NBPDCL_Sync_Reads_''_FIX\n"
     ]
    }
   ],
   "source": [
    "from lxml import etree\n",
    "import os\n",
    "\n",
    "path = r\"C:\\Users\\Ratan Kumar Jha\\Desktop\\xml code\\INPUT XML\"\n",
    "output_file_path = r'C:\\Users\\Ratan Kumar Jha\\Desktop\\xml code\\OUTPUT XML'\n",
    "os.chdir(path)\n",
    "\n",
    "for file in os.listdir():\n",
    "    # Check whether file is in text format or not \n",
    "    if file.endswith(\".xml\"):\n",
    "        file_path = f\"{path}\\{file}\"\n",
    "        #print(file_path)\n",
    "        #print(file)\n",
    "        if file.startswith(\"NEW\"):\n",
    "            print(f\"{file} :  start with new\")\n",
    "            print(f\"{file[0:10]}_Sync_Reads_''_FIX\")\n",
    "        elif file.startswith(\"SMART\"):\n",
    "            print(f\"{file} :  start with SMART\")\n",
    "            print(f\"{file[0:12]}_Sync_Reads_''_FIX\")\n",
    "        else:\n",
    "            print(f\"{file} :  normal file\")\n",
    "            print(f\"{file[0:6]}_Sync_Reads_''_FIX\")\n",
    "       "
   ]
  },
  {
   "cell_type": "code",
   "execution_count": 6,
   "metadata": {},
   "outputs": [
    {
     "data": {
      "text/plain": [
       "'NBPDCL'"
      ]
     },
     "execution_count": 6,
     "metadata": {},
     "output_type": "execute_result"
    }
   ],
   "source": [
    "a='NBPDCL_400163430_HOH.xml'\n",
    "a[0:6]"
   ]
  },
  {
   "cell_type": "code",
   "execution_count": null,
   "metadata": {},
   "outputs": [],
   "source": [
    "#For Normal- SBPDCL_Sync_Reads_GOEGL9082774_FIX\n",
    "#For New- NEW_SBPDCL_Sync_Reads_LNTLT1061547_FIX\n",
    "#For Smart- SMART_SBPDCL_Sync_Reads_GOEGP5010585_FIX"
   ]
  },
  {
   "cell_type": "code",
   "execution_count": null,
   "metadata": {},
   "outputs": [],
   "source": []
  },
  {
   "cell_type": "code",
   "execution_count": null,
   "metadata": {},
   "outputs": [],
   "source": []
  },
  {
   "cell_type": "code",
   "execution_count": 3,
   "metadata": {},
   "outputs": [
    {
     "name": "stdout",
     "output_type": "stream",
     "text": [
      "Meter Number: GOEGL9112230\n",
      "Meter Number: LNTLT1072467\n",
      "Meter Number: LNTLT8053384\n",
      "Meter Number: LNTLT1073637\n",
      "Meter Number: GOEGP7468411\n",
      "Meter Number: LNTLT1079699\n",
      "Meter Number: LNTLT1080611\n",
      "Meter Number: LNTLT0086531\n"
     ]
    }
   ],
   "source": [
    "from lxml import etree\n",
    "import os\n",
    "\n",
    "path = r\"C:\\Users\\Ratan Kumar Jha\\Desktop\\xml code\\INPUT XML\"\n",
    "output_file_path = r'C:\\Users\\Ratan Kumar Jha\\Desktop\\xml code\\OUTPUT XML'\n",
    "os.chdir(path)\n",
    "\n",
    "for file in os.listdir():\n",
    "    # Check whether file is in text format or not \n",
    "    if file.endswith(\".xml\"):\n",
    "        file_path = f\"{path}\\{file}\"\n",
    "\n",
    "        # Parse the XML file with explicit encoding handling\n",
    "        parser = etree.XMLParser(encoding='utf-8')\n",
    "        tree = etree.parse(file_path, parser)\n",
    "        root = tree.getroot()\n",
    "\n",
    "        # Namespaces\n",
    "        ns = {'ns': 'http://www.emeter.com/energyip/syncinterface/v8'}\n",
    "\n",
    "        # Create a new root element\n",
    "        new_root = etree.Element(root.tag, nsmap=root.nsmap)\n",
    "\n",
    "        # Find and append the header element\n",
    "        header = root.find('ns:header', namespaces=ns)\n",
    "        if header is not None:\n",
    "            new_root.append(header)\n",
    "\n",
    "        # Create a new payload element\n",
    "        payload = etree.Element('payload')\n",
    "\n",
    "        # Find and append the meterRead element to the payload\n",
    "        meter_read = root.find('.//ns:meterRead', namespaces=ns)\n",
    "        if meter_read is not None:\n",
    "            payload.append(meter_read)\n",
    "\n",
    "            meter_no = meter_read.find('.//ns:mRID', namespaces=ns)\n",
    "            if meter_no is not None:\n",
    "                print(f'Meter Number: {meter_no.text}')\n",
    "\n",
    "        # Append the payload element to the new root\n",
    "        new_root.append(payload)\n",
    "\n",
    "        # Write the modified XML to a new file\n",
    "        new_tree = etree.ElementTree(new_root)\n",
    "        file_name = file + '.xml'\n",
    "        output_xml_file_path = os.path.join(output_file_path, file_name)\n",
    "        new_tree.write(output_xml_file_path, pretty_print=True, xml_declaration=True, encoding='UTF-8')\n"
   ]
  },
  {
   "cell_type": "code",
   "execution_count": null,
   "metadata": {},
   "outputs": [],
   "source": []
  },
  {
   "cell_type": "code",
   "execution_count": null,
   "metadata": {},
   "outputs": [],
   "source": []
  },
  {
   "cell_type": "code",
   "execution_count": null,
   "metadata": {},
   "outputs": [],
   "source": []
  },
  {
   "cell_type": "code",
   "execution_count": null,
   "metadata": {},
   "outputs": [],
   "source": []
  },
  {
   "cell_type": "code",
   "execution_count": null,
   "metadata": {},
   "outputs": [],
   "source": [
    "# WORKING"
   ]
  }
 ],
 "metadata": {
  "kernelspec": {
   "display_name": "Python 3",
   "language": "python",
   "name": "python3"
  },
  "language_info": {
   "codemirror_mode": {
    "name": "ipython",
    "version": 3
   },
   "file_extension": ".py",
   "mimetype": "text/x-python",
   "name": "python",
   "nbconvert_exporter": "python",
   "pygments_lexer": "ipython3",
   "version": "3.9.18"
  }
 },
 "nbformat": 4,
 "nbformat_minor": 2
}
