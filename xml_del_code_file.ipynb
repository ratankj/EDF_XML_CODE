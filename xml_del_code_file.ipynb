{
 "cells": [
  {
   "cell_type": "code",
   "execution_count": 4,
   "metadata": {},
   "outputs": [],
   "source": [
    "import pandas as pd\n",
    "import numpy as np\n",
    "import os\n",
    "import shutil"
   ]
  },
  {
   "cell_type": "code",
   "execution_count": 2,
   "metadata": {},
   "outputs": [],
   "source": [
    "import xml.etree.ElementTree as ET"
   ]
  },
  {
   "cell_type": "code",
   "execution_count": 5,
   "metadata": {},
   "outputs": [],
   "source": [
    "path = r\"C:\\Users\\Ratan Kumar Jha\\Desktop\\xml code\"\n",
    "os.chdir(path) \n"
   ]
  },
  {
   "cell_type": "code",
   "execution_count": 12,
   "metadata": {},
   "outputs": [
    {
     "ename": "ParseError",
     "evalue": "encoding specified in XML declaration is incorrect: line 1, column 30 (<string>)",
     "output_type": "error",
     "traceback": [
      "Traceback \u001b[1;36m(most recent call last)\u001b[0m:\n",
      "\u001b[0m  File \u001b[0;32mc:\\PYTHON\\EDF_CODE_AUTOMATION_PYTHON\\EDF_XML_CODE\\venv\\lib\\site-packages\\IPython\\core\\interactiveshell.py:3550\u001b[0m in \u001b[0;35mrun_code\u001b[0m\n    exec(code_obj, self.user_global_ns, self.user_ns)\u001b[0m\n",
      "\u001b[0m  Cell \u001b[0;32mIn[12], line 5\u001b[0m\n    tree = ET.parse(file_path)\u001b[0m\n",
      "\u001b[0m  File \u001b[0;32mc:\\PYTHON\\EDF_CODE_AUTOMATION_PYTHON\\EDF_XML_CODE\\venv\\lib\\xml\\etree\\ElementTree.py:1222\u001b[0m in \u001b[0;35mparse\u001b[0m\n    tree.parse(source, parser)\u001b[0m\n",
      "\u001b[1;36m  File \u001b[1;32mc:\\PYTHON\\EDF_CODE_AUTOMATION_PYTHON\\EDF_XML_CODE\\venv\\lib\\xml\\etree\\ElementTree.py:580\u001b[1;36m in \u001b[1;35mparse\u001b[1;36m\n\u001b[1;33m    self._root = parser._parse_whole(source)\u001b[1;36m\n",
      "\u001b[1;36m  File \u001b[1;32m<string>\u001b[1;36m\u001b[0m\n\u001b[1;31mParseError\u001b[0m\u001b[1;31m:\u001b[0m encoding specified in XML declaration is incorrect: line 1, column 30\n"
     ]
    }
   ],
   "source": [
    "for file in os.listdir(): \n",
    "\t# Check whether file is in text format or not \n",
    "\tif file.endswith(\".xml\"):\n",
    "\t\tfile_path = f\"{path}\\{file}\"\n",
    "\t\ttree = ET.parse(file_path)\n",
    "\t\troot = tree.getroot()\n",
    "\t\tprint(root)\n",
    "\n"
   ]
  },
  {
   "cell_type": "code",
   "execution_count": null,
   "metadata": {},
   "outputs": [],
   "source": []
  },
  {
   "cell_type": "code",
   "execution_count": 18,
   "metadata": {},
   "outputs": [],
   "source": [
    "from lxml import etree\n",
    "path = r\"C:\\Users\\Ratan Kumar Jha\\Desktop\\xml code\"\n",
    "os.chdir(path) \n",
    "for file in os.listdir(): \n",
    "\t# Check whether file is in text format or not \n",
    "\tif file.endswith(\".xml\"):\n",
    "\t\tfile_path = f\"{path}\\{file}\"\n",
    "\n",
    "\n",
    "\t\t# Parse the XML file with explicit encoding handling\n",
    "\t\tparser = etree.XMLParser(encoding='utf-8')\n",
    "\t\ttree = etree.parse(file_path, parser)\n",
    "\t\troot = tree.getroot()\n",
    "\n",
    "\t\t# Namespaces\n",
    "\t\tns = {'ns': 'http://www.emeter.com/energyip/syncinterface/v8'}\n",
    "\n",
    "\t\t# Create a new root element\n",
    "\t\tnew_root = etree.Element(root.tag, nsmap=root.nsmap)\n",
    "\n",
    "\t\t# Find and append the header element\n",
    "\t\theader = root.find('ns:'header, namespaces=ns)\n",
    "\t\tif header is not None:\n",
    "\t\t    new_root.append(header)\n",
    "\n",
    "\t\t# Create a new payload element\n",
    "\t\t\n",
    "\t\tpayload = etree.Element('payload')\n",
    "\n",
    "\t\t# Find and append the meterRead element to the payload\n",
    "\t\tmeter_read = root.find('.//ns:meterRead', namespaces=ns)\n",
    "\t\tif meter_read is not None:\n",
    "\t\t    payload.append(meter_read)\n",
    "\n",
    "\t\t# Append the payload element to the new root\n",
    "\t\tnew_root.append(payload)\n",
    "\n",
    "\t\t# Write the modified XML to a new file\n",
    "\t\tnew_tree = etree.ElementTree(new_root)\n",
    "\t\tfile_name = file+ '.xml'\n",
    "\t\tnew_tree.write(file_name, pretty_print=True, xml_declaration=True, encoding='UTF-8')"
   ]
  },
  {
   "cell_type": "code",
   "execution_count": null,
   "metadata": {},
   "outputs": [],
   "source": []
  },
  {
   "cell_type": "code",
   "execution_count": null,
   "metadata": {},
   "outputs": [],
   "source": []
  },
  {
   "cell_type": "code",
   "execution_count": null,
   "metadata": {},
   "outputs": [],
   "source": [
    "# WORKING"
   ]
  },
  {
   "cell_type": "code",
   "execution_count": 16,
   "metadata": {},
   "outputs": [],
   "source": [
    "from lxml import etree\n",
    "\n",
    "# Path to your XML file\n",
    "file_path = r'C:\\Users\\Ratan Kumar Jha\\Desktop\\xml code\\NEW_NBPDCL_5004147574_HOH.xml'\n",
    "\n",
    "# Parse the XML file with explicit encoding handling\n",
    "parser = etree.XMLParser(encoding='utf-8')\n",
    "tree = etree.parse(file_path, parser)\n",
    "root = tree.getroot()\n",
    "\n",
    "# Namespaces\n",
    "ns = {'ns': 'http://www.emeter.com/energyip/syncinterface/v8'}\n",
    "\n",
    "# Create a new root element\n",
    "new_root = etree.Element(root.tag, nsmap=root.nsmap)\n",
    "\n",
    "# Find and append the header element\n",
    "header = root.find('ns:header', namespaces=ns)\n",
    "if header is not None:\n",
    "    new_root.append(header)\n",
    "\n",
    "# Create a new payload element\n",
    "payload = etree.Element('payload')\n",
    "\n",
    "# Find and append the meterRead element to the payload\n",
    "meter_read = root.find('.//ns:meterRead', namespaces=ns)\n",
    "if meter_read is not None:\n",
    "    payload.append(meter_read)\n",
    "\n",
    "# Append the payload element to the new root\n",
    "new_root.append(payload)\n",
    "\n",
    "# Write the modified XML to a new file\n",
    "new_tree = etree.ElementTree(new_root)\n",
    "new_tree.write('modified_example.xml', pretty_print=True, xml_declaration=True, encoding='UTF-8')\n"
   ]
  }
 ],
 "metadata": {
  "kernelspec": {
   "display_name": "Python 3",
   "language": "python",
   "name": "python3"
  },
  "language_info": {
   "codemirror_mode": {
    "name": "ipython",
    "version": 3
   },
   "file_extension": ".py",
   "mimetype": "text/x-python",
   "name": "python",
   "nbconvert_exporter": "python",
   "pygments_lexer": "ipython3",
   "version": "3.9.18"
  }
 },
 "nbformat": 4,
 "nbformat_minor": 2
}
