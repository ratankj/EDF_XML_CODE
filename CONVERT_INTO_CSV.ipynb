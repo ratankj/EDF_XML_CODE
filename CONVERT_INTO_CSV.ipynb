{
 "cells": [
  {
   "cell_type": "code",
   "execution_count": 1,
   "metadata": {},
   "outputs": [],
   "source": [
    "import pandas as pd"
   ]
  },
  {
   "cell_type": "code",
   "execution_count": 2,
   "metadata": {},
   "outputs": [],
   "source": [
    "NB_DATA=pd.read_excel(r\"C:\\Users\\Ratan Kumar Jha\\Desktop\\New folder\\NB Device.xlsx\")"
   ]
  },
  {
   "cell_type": "code",
   "execution_count": 3,
   "metadata": {},
   "outputs": [
    {
     "data": {
      "text/html": [
       "<div>\n",
       "<style scoped>\n",
       "    .dataframe tbody tr th:only-of-type {\n",
       "        vertical-align: middle;\n",
       "    }\n",
       "\n",
       "    .dataframe tbody tr th {\n",
       "        vertical-align: top;\n",
       "    }\n",
       "\n",
       "    .dataframe thead th {\n",
       "        text-align: right;\n",
       "    }\n",
       "</style>\n",
       "<table border=\"1\" class=\"dataframe\">\n",
       "  <thead>\n",
       "    <tr style=\"text-align: right;\">\n",
       "      <th></th>\n",
       "      <th>DeviceId</th>\n",
       "      <th>EntryDatetime</th>\n",
       "      <th>InstallationDatetime</th>\n",
       "      <th>Utility</th>\n",
       "      <th>Ip</th>\n",
       "      <th>LastS05</th>\n",
       "      <th>LastEvent</th>\n",
       "      <th>LastCommand</th>\n",
       "      <th>FWVersion</th>\n",
       "      <th>LastS04</th>\n",
       "      <th>LastS02</th>\n",
       "      <th>StateName</th>\n",
       "    </tr>\n",
       "  </thead>\n",
       "  <tbody>\n",
       "    <tr>\n",
       "      <th>0</th>\n",
       "      <td>LNTLT8069351</td>\n",
       "      <td>10/24/2023 10:04:41 PM</td>\n",
       "      <td>1/3/2024 10:49:59 PM</td>\n",
       "      <td>NBPDCL</td>\n",
       "      <td>2405:0203:0535:37E5:0000:0000:0000:0010</td>\n",
       "      <td>3/16/2024 12:00:00 AM</td>\n",
       "      <td>NaN</td>\n",
       "      <td>1/10/2024 10:58:07 PM</td>\n",
       "      <td>3PBNC.82 01</td>\n",
       "      <td>3/1/2024 12:00:00 AM</td>\n",
       "      <td>NaN</td>\n",
       "      <td>Imported&amp;&amp;Installed</td>\n",
       "    </tr>\n",
       "  </tbody>\n",
       "</table>\n",
       "</div>"
      ],
      "text/plain": [
       "       DeviceId           EntryDatetime  InstallationDatetime Utility  \\\n",
       "0  LNTLT8069351  10/24/2023 10:04:41 PM  1/3/2024 10:49:59 PM  NBPDCL   \n",
       "\n",
       "                                        Ip                LastS05  LastEvent  \\\n",
       "0  2405:0203:0535:37E5:0000:0000:0000:0010  3/16/2024 12:00:00 AM        NaN   \n",
       "\n",
       "             LastCommand    FWVersion               LastS04 LastS02  \\\n",
       "0  1/10/2024 10:58:07 PM  3PBNC.82 01  3/1/2024 12:00:00 AM     NaN   \n",
       "\n",
       "             StateName  \n",
       "0  Imported&&Installed  "
      ]
     },
     "execution_count": 3,
     "metadata": {},
     "output_type": "execute_result"
    }
   ],
   "source": [
    "NB_DATA.head(1)"
   ]
  },
  {
   "cell_type": "code",
   "execution_count": 4,
   "metadata": {},
   "outputs": [],
   "source": [
    "SB_DATA=pd.read_excel(r\"C:\\Users\\Ratan Kumar Jha\\Desktop\\New folder\\SB list.xlsx\")"
   ]
  },
  {
   "cell_type": "code",
   "execution_count": 5,
   "metadata": {},
   "outputs": [],
   "source": [
    "NB_DATA.to_csv(r\"C:\\Users\\Ratan Kumar Jha\\Desktop\\New folder\\output_csv_file\\NB_DATA.csv\")\n",
    "SB_DATA.to_csv(r\"C:\\Users\\Ratan Kumar Jha\\Desktop\\New folder\\output_csv_file\\SB_DATA.csv\")"
   ]
  },
  {
   "cell_type": "code",
   "execution_count": 6,
   "metadata": {},
   "outputs": [
    {
     "data": {
      "text/html": [
       "<div>\n",
       "<style scoped>\n",
       "    .dataframe tbody tr th:only-of-type {\n",
       "        vertical-align: middle;\n",
       "    }\n",
       "\n",
       "    .dataframe tbody tr th {\n",
       "        vertical-align: top;\n",
       "    }\n",
       "\n",
       "    .dataframe thead th {\n",
       "        text-align: right;\n",
       "    }\n",
       "</style>\n",
       "<table border=\"1\" class=\"dataframe\">\n",
       "  <thead>\n",
       "    <tr style=\"text-align: right;\">\n",
       "      <th></th>\n",
       "      <th>DeviceId</th>\n",
       "      <th>EntryDatetime</th>\n",
       "      <th>InstallationDatetime</th>\n",
       "      <th>Utility</th>\n",
       "      <th>Ip</th>\n",
       "      <th>LastS05</th>\n",
       "      <th>LastEvent</th>\n",
       "      <th>LastCommand</th>\n",
       "      <th>FWVersion</th>\n",
       "      <th>LastS04</th>\n",
       "      <th>LastS02</th>\n",
       "      <th>StateName</th>\n",
       "    </tr>\n",
       "  </thead>\n",
       "  <tbody>\n",
       "    <tr>\n",
       "      <th>0</th>\n",
       "      <td>LNTLT8069351</td>\n",
       "      <td>10/24/2023 10:04:41 PM</td>\n",
       "      <td>1/3/2024 10:49:59 PM</td>\n",
       "      <td>NBPDCL</td>\n",
       "      <td>2405:0203:0535:37E5:0000:0000:0000:0010</td>\n",
       "      <td>3/16/2024 12:00:00 AM</td>\n",
       "      <td>NaN</td>\n",
       "      <td>1/10/2024 10:58:07 PM</td>\n",
       "      <td>3PBNC.82 01</td>\n",
       "      <td>3/1/2024 12:00:00 AM</td>\n",
       "      <td>NaN</td>\n",
       "      <td>Imported&amp;&amp;Installed</td>\n",
       "    </tr>\n",
       "  </tbody>\n",
       "</table>\n",
       "</div>"
      ],
      "text/plain": [
       "       DeviceId           EntryDatetime  InstallationDatetime Utility  \\\n",
       "0  LNTLT8069351  10/24/2023 10:04:41 PM  1/3/2024 10:49:59 PM  NBPDCL   \n",
       "\n",
       "                                        Ip                LastS05  LastEvent  \\\n",
       "0  2405:0203:0535:37E5:0000:0000:0000:0010  3/16/2024 12:00:00 AM        NaN   \n",
       "\n",
       "             LastCommand    FWVersion               LastS04 LastS02  \\\n",
       "0  1/10/2024 10:58:07 PM  3PBNC.82 01  3/1/2024 12:00:00 AM     NaN   \n",
       "\n",
       "             StateName  \n",
       "0  Imported&&Installed  "
      ]
     },
     "execution_count": 6,
     "metadata": {},
     "output_type": "execute_result"
    }
   ],
   "source": [
    "NB_DATA.head(1)"
   ]
  },
  {
   "cell_type": "code",
   "execution_count": 7,
   "metadata": {},
   "outputs": [
    {
     "data": {
      "text/html": [
       "<div>\n",
       "<style scoped>\n",
       "    .dataframe tbody tr th:only-of-type {\n",
       "        vertical-align: middle;\n",
       "    }\n",
       "\n",
       "    .dataframe tbody tr th {\n",
       "        vertical-align: top;\n",
       "    }\n",
       "\n",
       "    .dataframe thead th {\n",
       "        text-align: right;\n",
       "    }\n",
       "</style>\n",
       "<table border=\"1\" class=\"dataframe\">\n",
       "  <thead>\n",
       "    <tr style=\"text-align: right;\">\n",
       "      <th></th>\n",
       "      <th>DeviceId</th>\n",
       "      <th>EntryDatetime</th>\n",
       "      <th>InstallationDatetime</th>\n",
       "      <th>Utility</th>\n",
       "      <th>Ip</th>\n",
       "      <th>LastS05</th>\n",
       "      <th>LastEvent</th>\n",
       "      <th>LastCommand</th>\n",
       "      <th>FWVersion</th>\n",
       "      <th>LastS04</th>\n",
       "      <th>LastS02</th>\n",
       "      <th>StateName</th>\n",
       "    </tr>\n",
       "  </thead>\n",
       "  <tbody>\n",
       "    <tr>\n",
       "      <th>0</th>\n",
       "      <td>SESEI4875768</td>\n",
       "      <td>7/7/2020 7:37:21 PM</td>\n",
       "      <td>NaN</td>\n",
       "      <td>SBPDCL</td>\n",
       "      <td>NaN</td>\n",
       "      <td>NaN</td>\n",
       "      <td>NaN</td>\n",
       "      <td>9/3/2020 1:20:12 AM</td>\n",
       "      <td>G36B7.145070</td>\n",
       "      <td>NaN</td>\n",
       "      <td>NaN</td>\n",
       "      <td>Imported&amp;&amp;Dismantled</td>\n",
       "    </tr>\n",
       "  </tbody>\n",
       "</table>\n",
       "</div>"
      ],
      "text/plain": [
       "       DeviceId        EntryDatetime InstallationDatetime Utility   Ip  \\\n",
       "0  SESEI4875768  7/7/2020 7:37:21 PM                  NaN  SBPDCL  NaN   \n",
       "\n",
       "  LastS05  LastEvent          LastCommand     FWVersion LastS04 LastS02  \\\n",
       "0     NaN        NaN  9/3/2020 1:20:12 AM  G36B7.145070     NaN     NaN   \n",
       "\n",
       "              StateName  \n",
       "0  Imported&&Dismantled  "
      ]
     },
     "execution_count": 7,
     "metadata": {},
     "output_type": "execute_result"
    }
   ],
   "source": [
    "SB_DATA.head(1)"
   ]
  },
  {
   "cell_type": "code",
   "execution_count": null,
   "metadata": {},
   "outputs": [],
   "source": []
  }
 ],
 "metadata": {
  "kernelspec": {
   "display_name": "Python 3",
   "language": "python",
   "name": "python3"
  },
  "language_info": {
   "codemirror_mode": {
    "name": "ipython",
    "version": 3
   },
   "file_extension": ".py",
   "mimetype": "text/x-python",
   "name": "python",
   "nbconvert_exporter": "python",
   "pygments_lexer": "ipython3",
   "version": "3.9.18"
  }
 },
 "nbformat": 4,
 "nbformat_minor": 2
}
